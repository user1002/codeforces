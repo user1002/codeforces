{
 "cells": [
  {
   "cell_type": "markdown",
   "metadata": {},
   "source": [
    "# Bear and Big Brother"
   ]
  },
  {
   "cell_type": "markdown",
   "metadata": {},
   "source": [
    "Bear Limak wants to become the largest of bears, or at least to become larger than his brother Bob.\n",
    "\n",
    "Right now, Limak and Bob weigh a and b respectively. It's guaranteed that Limak's weight is smaller than or equal to his brother's weight.\n",
    "\n",
    "Limak eats a lot and his weight is tripled after every year, while Bob's weight is doubled after every year.\n",
    "\n",
    "After how many full years will Limak become strictly larger (strictly heavier) than Bob?\n",
    "\n",
    "Input\n",
    "The only line of the input contains two integers a and b (1 ≤ a ≤ b ≤ 10) — the weight of Limak and the weight of Bob respectively.\n",
    "\n",
    "Output\n",
    "Print one integer, denoting the integer number of years after which Limak will become strictly larger than Bob.\n",
    "\n",
    "Input:  \n",
    "4 7  \n",
    "Output:  \n",
    "2\n"
   ]
  },
  {
   "cell_type": "code",
   "execution_count": 1,
   "metadata": {},
   "outputs": [
    {
     "name": "stdout",
     "output_type": "stream",
     "text": [
      "4 7\n"
     ]
    }
   ],
   "source": [
    "w=input()"
   ]
  },
  {
   "cell_type": "code",
   "execution_count": 2,
   "metadata": {},
   "outputs": [],
   "source": [
    "wgt=[]\n",
    "wgt=w.split()\n",
    "l=int(wgt[0])\n",
    "b=int(wgt[1])\n",
    "y=0"
   ]
  },
  {
   "cell_type": "code",
   "execution_count": 3,
   "metadata": {},
   "outputs": [],
   "source": [
    "while l <= b:\n",
    "    y=y+1\n",
    "    l=l*3\n",
    "    b=b*2"
   ]
  },
  {
   "cell_type": "code",
   "execution_count": 4,
   "metadata": {},
   "outputs": [
    {
     "name": "stdout",
     "output_type": "stream",
     "text": [
      "2\n"
     ]
    }
   ],
   "source": [
    "print(y)"
   ]
  }
 ],
 "metadata": {
  "kernelspec": {
   "display_name": "Python 3",
   "language": "python",
   "name": "python3"
  },
  "language_info": {
   "codemirror_mode": {
    "name": "ipython",
    "version": 3
   },
   "file_extension": ".py",
   "mimetype": "text/x-python",
   "name": "python",
   "nbconvert_exporter": "python",
   "pygments_lexer": "ipython3",
   "version": "3.5.3"
  }
 },
 "nbformat": 4,
 "nbformat_minor": 4
}
