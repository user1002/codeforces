{
 "cells": [
  {
   "cell_type": "markdown",
   "metadata": {},
   "source": [
    "# Hulk"
   ]
  },
  {
   "cell_type": "markdown",
   "metadata": {},
   "source": [
    "Dr. Bruce Banner hates his enemies (like others don't). As we all know, he can barely talk when he turns into the incredible Hulk. That's why he asked you to help him to express his feelings.\n",
    "\n",
    "Hulk likes the Inception so much, and like that his feelings are complicated. They have n layers. The first layer is hate, second one is love, third one is hate and so on...\n",
    "\n",
    "For example if n = 1, then his feeling is \"I hate it\" or if n = 2 it's \"I hate that I love it\", and if n = 3 it's \"I hate that I love that I hate it\" and so on.\n",
    "\n",
    "Please help Dr. Banner.\n",
    "\n",
    "Input\n",
    "The only line of the input contains a single integer n (1 ≤ n ≤ 100) — the number of layers of love and hate.\n",
    "\n",
    "Output\n",
    "Print Dr.Banner's feeling in one line.\n",
    "\n",
    "\n",
    "Input:1  \n",
    "Output: I hate it  \n",
    "\n",
    "Input:3\n",
    "Output: I hate that I love that I hate it\n"
   ]
  },
  {
   "cell_type": "code",
   "execution_count": 2,
   "metadata": {},
   "outputs": [
    {
     "name": "stdout",
     "output_type": "stream",
     "text": [
      "2\n"
     ]
    }
   ],
   "source": [
    "input_counter=int(input())\n",
    "counter=0\n",
    "start='I hate'\n",
    "space=' '\n",
    "feel=''\n",
    "evenfeel='that I love'\n",
    "oddfeel='that I hate'\n",
    "end = 'it'"
   ]
  },
  {
   "cell_type": "code",
   "execution_count": 3,
   "metadata": {},
   "outputs": [
    {
     "name": "stdout",
     "output_type": "stream",
     "text": [
      "I hate that I love it\n"
     ]
    }
   ],
   "source": [
    "if input_counter == 1: #set by default to 'I hate it' by rule\n",
    "    pass\n",
    "else:\n",
    "    while input_counter != counter+1: #counter+1, since I am start execution at 0\n",
    "        if (counter % 2)==0:\n",
    "            feel=feel+space+evenfeel\n",
    "        else:\n",
    "            feel=feel+space+oddfeel\n",
    "        counter += 1\n",
    "\n",
    "print(start+feel+space+end)"
   ]
  }
 ],
 "metadata": {
  "kernelspec": {
   "display_name": "Python 3",
   "language": "python",
   "name": "python3"
  },
  "language_info": {
   "codemirror_mode": {
    "name": "ipython",
    "version": 3
   },
   "file_extension": ".py",
   "mimetype": "text/x-python",
   "name": "python",
   "nbconvert_exporter": "python",
   "pygments_lexer": "ipython3",
   "version": "3.7.1"
  }
 },
 "nbformat": 4,
 "nbformat_minor": 2
}
