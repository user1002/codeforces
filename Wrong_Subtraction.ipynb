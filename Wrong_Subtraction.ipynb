{
 "cells": [
  {
   "cell_type": "markdown",
   "metadata": {},
   "source": [
    "# Wrong Subtraction"
   ]
  },
  {
   "cell_type": "markdown",
   "metadata": {},
   "source": [
    "Little girl Tanya is learning how to decrease a number by one, but she does it wrong with a number consisting of two or more digits. Tanya subtracts one from a number by the following algorithm:\n",
    "\n",
    "if the last digit of the number is non-zero, she decreases the number by one;\n",
    "if the last digit of the number is zero, she divides the number by 10 (i.e. removes the last digit).\n",
    "You are given an integer number n. Tanya will subtract one from it k times. Your task is to print the result after all k subtractions.\n",
    "\n",
    "It is guaranteed that the result will be positive integer number.\n",
    "\n",
    "Input\n",
    "The first line of the input contains two integer numbers n and k (2≤n≤109, 1≤k≤50) — the number from which Tanya will subtract and the number of subtractions correspondingly.\n",
    "\n",
    "Output\n",
    "Print one integer number — the result of the decreasing n by one k times.\n",
    "It is guaranteed that the result will be positive integer number.\n",
    "\n",
    "Question: 512 4\n",
    "Answer: 50\n",
    "\n",
    "Soln:\n",
    "The first example corresponds to the following sequence: 512→511→510→51→50."
   ]
  },
  {
   "cell_type": "markdown",
   "metadata": {},
   "source": [
    "### Create Function"
   ]
  },
  {
   "cell_type": "code",
   "execution_count": 9,
   "metadata": {},
   "outputs": [],
   "source": [
    "def Tanya(n,k):\n",
    "    while k > 0 and n > 1:\n",
    "        if n <= 1:\n",
    "            pass\n",
    "        elif (n % 10) != 0:\n",
    "            n=int(n-1)\n",
    "        else:\n",
    "            n=int(n/10)\n",
    "        k=k-1\n",
    "    print(n)"
   ]
  },
  {
   "cell_type": "markdown",
   "metadata": {},
   "source": [
    "### Collect Input"
   ]
  },
  {
   "cell_type": "code",
   "execution_count": 12,
   "metadata": {},
   "outputs": [
    {
     "name": "stdout",
     "output_type": "stream",
     "text": [
      "512 4\n"
     ]
    }
   ],
   "source": [
    "a=input()"
   ]
  },
  {
   "cell_type": "markdown",
   "metadata": {},
   "source": [
    "### Pass Value to Function"
   ]
  },
  {
   "cell_type": "code",
   "execution_count": 13,
   "metadata": {},
   "outputs": [
    {
     "name": "stdout",
     "output_type": "stream",
     "text": [
      "50\n"
     ]
    }
   ],
   "source": [
    "n=int(a.split(' ')[0])\n",
    "k=int(a.split(' ')[1])\n",
    "Tanya(n,k)"
   ]
  }
 ],
 "metadata": {
  "kernelspec": {
   "display_name": "Python 3",
   "language": "python",
   "name": "python3"
  },
  "language_info": {
   "codemirror_mode": {
    "name": "ipython",
    "version": 3
   },
   "file_extension": ".py",
   "mimetype": "text/x-python",
   "name": "python",
   "nbconvert_exporter": "python",
   "pygments_lexer": "ipython3",
   "version": "3.7.1"
  }
 },
 "nbformat": 4,
 "nbformat_minor": 2
}
